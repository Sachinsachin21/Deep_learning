{
  "nbformat": 4,
  "nbformat_minor": 0,
  "metadata": {
    "colab": {
      "provenance": [],
      "include_colab_link": true
    },
    "kernelspec": {
      "name": "python3",
      "display_name": "Python 3"
    },
    "language_info": {
      "name": "python"
    }
  },
  "cells": [
    {
      "cell_type": "markdown",
      "metadata": {
        "id": "view-in-github",
        "colab_type": "text"
      },
      "source": [
        "<a href=\"https://colab.research.google.com/github/Sachinsachin21/Deep_learning/blob/main/BostonHousng.ipynb\" target=\"_parent\"><img src=\"https://colab.research.google.com/assets/colab-badge.svg\" alt=\"Open In Colab\"/></a>"
      ]
    },
    {
      "cell_type": "code",
      "execution_count": 1,
      "metadata": {
        "id": "Ey8JcJ6vth56"
      },
      "outputs": [],
      "source": [
        "import pandas as pd\n",
        "import numpy as np\n",
        "import matplotlib.pyplot as plt\n",
        "from sklearn.preprocessing import StandardScaler\n",
        "from sklearn.model_selection import train_test_split\n",
        "import tensorflow as tf\n",
        "from tensorflow import keras\n",
        "from sklearn.metrics import mean_absolute_error, mean_squared_error, r2_score"
      ]
    },
    {
      "cell_type": "code",
      "source": [
        "data= pd.read_csv('BostonHousing.csv')\n",
        "data.head()"
      ],
      "metadata": {
        "id": "ZNnlvdlquJH0",
        "colab": {
          "base_uri": "https://localhost:8080/",
          "height": 206
        },
        "outputId": "1e68a095-a345-47d6-a70d-23ae53ed9607"
      },
      "execution_count": 2,
      "outputs": [
        {
          "output_type": "execute_result",
          "data": {
            "text/plain": [
              "      crim    zn  indus  chas    nox     rm   age     dis  rad  tax  ptratio  \\\n",
              "0  0.00632  18.0   2.31     0  0.538  6.575  65.2  4.0900    1  296     15.3   \n",
              "1  0.02731   0.0   7.07     0  0.469  6.421  78.9  4.9671    2  242     17.8   \n",
              "2  0.02729   0.0   7.07     0  0.469  7.185  61.1  4.9671    2  242     17.8   \n",
              "3  0.03237   0.0   2.18     0  0.458  6.998  45.8  6.0622    3  222     18.7   \n",
              "4  0.06905   0.0   2.18     0  0.458  7.147  54.2  6.0622    3  222     18.7   \n",
              "\n",
              "        b  lstat  medv  \n",
              "0  396.90   4.98  24.0  \n",
              "1  396.90   9.14  21.6  \n",
              "2  392.83   4.03  34.7  \n",
              "3  394.63   2.94  33.4  \n",
              "4  396.90   5.33  36.2  "
            ],
            "text/html": [
              "\n",
              "  <div id=\"df-c2f34a63-484b-4f1f-a6e3-91471ae97a35\" class=\"colab-df-container\">\n",
              "    <div>\n",
              "<style scoped>\n",
              "    .dataframe tbody tr th:only-of-type {\n",
              "        vertical-align: middle;\n",
              "    }\n",
              "\n",
              "    .dataframe tbody tr th {\n",
              "        vertical-align: top;\n",
              "    }\n",
              "\n",
              "    .dataframe thead th {\n",
              "        text-align: right;\n",
              "    }\n",
              "</style>\n",
              "<table border=\"1\" class=\"dataframe\">\n",
              "  <thead>\n",
              "    <tr style=\"text-align: right;\">\n",
              "      <th></th>\n",
              "      <th>crim</th>\n",
              "      <th>zn</th>\n",
              "      <th>indus</th>\n",
              "      <th>chas</th>\n",
              "      <th>nox</th>\n",
              "      <th>rm</th>\n",
              "      <th>age</th>\n",
              "      <th>dis</th>\n",
              "      <th>rad</th>\n",
              "      <th>tax</th>\n",
              "      <th>ptratio</th>\n",
              "      <th>b</th>\n",
              "      <th>lstat</th>\n",
              "      <th>medv</th>\n",
              "    </tr>\n",
              "  </thead>\n",
              "  <tbody>\n",
              "    <tr>\n",
              "      <th>0</th>\n",
              "      <td>0.00632</td>\n",
              "      <td>18.0</td>\n",
              "      <td>2.31</td>\n",
              "      <td>0</td>\n",
              "      <td>0.538</td>\n",
              "      <td>6.575</td>\n",
              "      <td>65.2</td>\n",
              "      <td>4.0900</td>\n",
              "      <td>1</td>\n",
              "      <td>296</td>\n",
              "      <td>15.3</td>\n",
              "      <td>396.90</td>\n",
              "      <td>4.98</td>\n",
              "      <td>24.0</td>\n",
              "    </tr>\n",
              "    <tr>\n",
              "      <th>1</th>\n",
              "      <td>0.02731</td>\n",
              "      <td>0.0</td>\n",
              "      <td>7.07</td>\n",
              "      <td>0</td>\n",
              "      <td>0.469</td>\n",
              "      <td>6.421</td>\n",
              "      <td>78.9</td>\n",
              "      <td>4.9671</td>\n",
              "      <td>2</td>\n",
              "      <td>242</td>\n",
              "      <td>17.8</td>\n",
              "      <td>396.90</td>\n",
              "      <td>9.14</td>\n",
              "      <td>21.6</td>\n",
              "    </tr>\n",
              "    <tr>\n",
              "      <th>2</th>\n",
              "      <td>0.02729</td>\n",
              "      <td>0.0</td>\n",
              "      <td>7.07</td>\n",
              "      <td>0</td>\n",
              "      <td>0.469</td>\n",
              "      <td>7.185</td>\n",
              "      <td>61.1</td>\n",
              "      <td>4.9671</td>\n",
              "      <td>2</td>\n",
              "      <td>242</td>\n",
              "      <td>17.8</td>\n",
              "      <td>392.83</td>\n",
              "      <td>4.03</td>\n",
              "      <td>34.7</td>\n",
              "    </tr>\n",
              "    <tr>\n",
              "      <th>3</th>\n",
              "      <td>0.03237</td>\n",
              "      <td>0.0</td>\n",
              "      <td>2.18</td>\n",
              "      <td>0</td>\n",
              "      <td>0.458</td>\n",
              "      <td>6.998</td>\n",
              "      <td>45.8</td>\n",
              "      <td>6.0622</td>\n",
              "      <td>3</td>\n",
              "      <td>222</td>\n",
              "      <td>18.7</td>\n",
              "      <td>394.63</td>\n",
              "      <td>2.94</td>\n",
              "      <td>33.4</td>\n",
              "    </tr>\n",
              "    <tr>\n",
              "      <th>4</th>\n",
              "      <td>0.06905</td>\n",
              "      <td>0.0</td>\n",
              "      <td>2.18</td>\n",
              "      <td>0</td>\n",
              "      <td>0.458</td>\n",
              "      <td>7.147</td>\n",
              "      <td>54.2</td>\n",
              "      <td>6.0622</td>\n",
              "      <td>3</td>\n",
              "      <td>222</td>\n",
              "      <td>18.7</td>\n",
              "      <td>396.90</td>\n",
              "      <td>5.33</td>\n",
              "      <td>36.2</td>\n",
              "    </tr>\n",
              "  </tbody>\n",
              "</table>\n",
              "</div>\n",
              "    <div class=\"colab-df-buttons\">\n",
              "\n",
              "  <div class=\"colab-df-container\">\n",
              "    <button class=\"colab-df-convert\" onclick=\"convertToInteractive('df-c2f34a63-484b-4f1f-a6e3-91471ae97a35')\"\n",
              "            title=\"Convert this dataframe to an interactive table.\"\n",
              "            style=\"display:none;\">\n",
              "\n",
              "  <svg xmlns=\"http://www.w3.org/2000/svg\" height=\"24px\" viewBox=\"0 -960 960 960\">\n",
              "    <path d=\"M120-120v-720h720v720H120Zm60-500h600v-160H180v160Zm220 220h160v-160H400v160Zm0 220h160v-160H400v160ZM180-400h160v-160H180v160Zm440 0h160v-160H620v160ZM180-180h160v-160H180v160Zm440 0h160v-160H620v160Z\"/>\n",
              "  </svg>\n",
              "    </button>\n",
              "\n",
              "  <style>\n",
              "    .colab-df-container {\n",
              "      display:flex;\n",
              "      gap: 12px;\n",
              "    }\n",
              "\n",
              "    .colab-df-convert {\n",
              "      background-color: #E8F0FE;\n",
              "      border: none;\n",
              "      border-radius: 50%;\n",
              "      cursor: pointer;\n",
              "      display: none;\n",
              "      fill: #1967D2;\n",
              "      height: 32px;\n",
              "      padding: 0 0 0 0;\n",
              "      width: 32px;\n",
              "    }\n",
              "\n",
              "    .colab-df-convert:hover {\n",
              "      background-color: #E2EBFA;\n",
              "      box-shadow: 0px 1px 2px rgba(60, 64, 67, 0.3), 0px 1px 3px 1px rgba(60, 64, 67, 0.15);\n",
              "      fill: #174EA6;\n",
              "    }\n",
              "\n",
              "    .colab-df-buttons div {\n",
              "      margin-bottom: 4px;\n",
              "    }\n",
              "\n",
              "    [theme=dark] .colab-df-convert {\n",
              "      background-color: #3B4455;\n",
              "      fill: #D2E3FC;\n",
              "    }\n",
              "\n",
              "    [theme=dark] .colab-df-convert:hover {\n",
              "      background-color: #434B5C;\n",
              "      box-shadow: 0px 1px 3px 1px rgba(0, 0, 0, 0.15);\n",
              "      filter: drop-shadow(0px 1px 2px rgba(0, 0, 0, 0.3));\n",
              "      fill: #FFFFFF;\n",
              "    }\n",
              "  </style>\n",
              "\n",
              "    <script>\n",
              "      const buttonEl =\n",
              "        document.querySelector('#df-c2f34a63-484b-4f1f-a6e3-91471ae97a35 button.colab-df-convert');\n",
              "      buttonEl.style.display =\n",
              "        google.colab.kernel.accessAllowed ? 'block' : 'none';\n",
              "\n",
              "      async function convertToInteractive(key) {\n",
              "        const element = document.querySelector('#df-c2f34a63-484b-4f1f-a6e3-91471ae97a35');\n",
              "        const dataTable =\n",
              "          await google.colab.kernel.invokeFunction('convertToInteractive',\n",
              "                                                    [key], {});\n",
              "        if (!dataTable) return;\n",
              "\n",
              "        const docLinkHtml = 'Like what you see? Visit the ' +\n",
              "          '<a target=\"_blank\" href=https://colab.research.google.com/notebooks/data_table.ipynb>data table notebook</a>'\n",
              "          + ' to learn more about interactive tables.';\n",
              "        element.innerHTML = '';\n",
              "        dataTable['output_type'] = 'display_data';\n",
              "        await google.colab.output.renderOutput(dataTable, element);\n",
              "        const docLink = document.createElement('div');\n",
              "        docLink.innerHTML = docLinkHtml;\n",
              "        element.appendChild(docLink);\n",
              "      }\n",
              "    </script>\n",
              "  </div>\n",
              "\n",
              "\n",
              "<div id=\"df-4374d33d-0be5-4c7e-84e1-481737732053\">\n",
              "  <button class=\"colab-df-quickchart\" onclick=\"quickchart('df-4374d33d-0be5-4c7e-84e1-481737732053')\"\n",
              "            title=\"Suggest charts\"\n",
              "            style=\"display:none;\">\n",
              "\n",
              "<svg xmlns=\"http://www.w3.org/2000/svg\" height=\"24px\"viewBox=\"0 0 24 24\"\n",
              "     width=\"24px\">\n",
              "    <g>\n",
              "        <path d=\"M19 3H5c-1.1 0-2 .9-2 2v14c0 1.1.9 2 2 2h14c1.1 0 2-.9 2-2V5c0-1.1-.9-2-2-2zM9 17H7v-7h2v7zm4 0h-2V7h2v10zm4 0h-2v-4h2v4z\"/>\n",
              "    </g>\n",
              "</svg>\n",
              "  </button>\n",
              "\n",
              "<style>\n",
              "  .colab-df-quickchart {\n",
              "      --bg-color: #E8F0FE;\n",
              "      --fill-color: #1967D2;\n",
              "      --hover-bg-color: #E2EBFA;\n",
              "      --hover-fill-color: #174EA6;\n",
              "      --disabled-fill-color: #AAA;\n",
              "      --disabled-bg-color: #DDD;\n",
              "  }\n",
              "\n",
              "  [theme=dark] .colab-df-quickchart {\n",
              "      --bg-color: #3B4455;\n",
              "      --fill-color: #D2E3FC;\n",
              "      --hover-bg-color: #434B5C;\n",
              "      --hover-fill-color: #FFFFFF;\n",
              "      --disabled-bg-color: #3B4455;\n",
              "      --disabled-fill-color: #666;\n",
              "  }\n",
              "\n",
              "  .colab-df-quickchart {\n",
              "    background-color: var(--bg-color);\n",
              "    border: none;\n",
              "    border-radius: 50%;\n",
              "    cursor: pointer;\n",
              "    display: none;\n",
              "    fill: var(--fill-color);\n",
              "    height: 32px;\n",
              "    padding: 0;\n",
              "    width: 32px;\n",
              "  }\n",
              "\n",
              "  .colab-df-quickchart:hover {\n",
              "    background-color: var(--hover-bg-color);\n",
              "    box-shadow: 0 1px 2px rgba(60, 64, 67, 0.3), 0 1px 3px 1px rgba(60, 64, 67, 0.15);\n",
              "    fill: var(--button-hover-fill-color);\n",
              "  }\n",
              "\n",
              "  .colab-df-quickchart-complete:disabled,\n",
              "  .colab-df-quickchart-complete:disabled:hover {\n",
              "    background-color: var(--disabled-bg-color);\n",
              "    fill: var(--disabled-fill-color);\n",
              "    box-shadow: none;\n",
              "  }\n",
              "\n",
              "  .colab-df-spinner {\n",
              "    border: 2px solid var(--fill-color);\n",
              "    border-color: transparent;\n",
              "    border-bottom-color: var(--fill-color);\n",
              "    animation:\n",
              "      spin 1s steps(1) infinite;\n",
              "  }\n",
              "\n",
              "  @keyframes spin {\n",
              "    0% {\n",
              "      border-color: transparent;\n",
              "      border-bottom-color: var(--fill-color);\n",
              "      border-left-color: var(--fill-color);\n",
              "    }\n",
              "    20% {\n",
              "      border-color: transparent;\n",
              "      border-left-color: var(--fill-color);\n",
              "      border-top-color: var(--fill-color);\n",
              "    }\n",
              "    30% {\n",
              "      border-color: transparent;\n",
              "      border-left-color: var(--fill-color);\n",
              "      border-top-color: var(--fill-color);\n",
              "      border-right-color: var(--fill-color);\n",
              "    }\n",
              "    40% {\n",
              "      border-color: transparent;\n",
              "      border-right-color: var(--fill-color);\n",
              "      border-top-color: var(--fill-color);\n",
              "    }\n",
              "    60% {\n",
              "      border-color: transparent;\n",
              "      border-right-color: var(--fill-color);\n",
              "    }\n",
              "    80% {\n",
              "      border-color: transparent;\n",
              "      border-right-color: var(--fill-color);\n",
              "      border-bottom-color: var(--fill-color);\n",
              "    }\n",
              "    90% {\n",
              "      border-color: transparent;\n",
              "      border-bottom-color: var(--fill-color);\n",
              "    }\n",
              "  }\n",
              "</style>\n",
              "\n",
              "  <script>\n",
              "    async function quickchart(key) {\n",
              "      const quickchartButtonEl =\n",
              "        document.querySelector('#' + key + ' button');\n",
              "      quickchartButtonEl.disabled = true;  // To prevent multiple clicks.\n",
              "      quickchartButtonEl.classList.add('colab-df-spinner');\n",
              "      try {\n",
              "        const charts = await google.colab.kernel.invokeFunction(\n",
              "            'suggestCharts', [key], {});\n",
              "      } catch (error) {\n",
              "        console.error('Error during call to suggestCharts:', error);\n",
              "      }\n",
              "      quickchartButtonEl.classList.remove('colab-df-spinner');\n",
              "      quickchartButtonEl.classList.add('colab-df-quickchart-complete');\n",
              "    }\n",
              "    (() => {\n",
              "      let quickchartButtonEl =\n",
              "        document.querySelector('#df-4374d33d-0be5-4c7e-84e1-481737732053 button');\n",
              "      quickchartButtonEl.style.display =\n",
              "        google.colab.kernel.accessAllowed ? 'block' : 'none';\n",
              "    })();\n",
              "  </script>\n",
              "</div>\n",
              "\n",
              "    </div>\n",
              "  </div>\n"
            ],
            "application/vnd.google.colaboratory.intrinsic+json": {
              "type": "dataframe",
              "variable_name": "data",
              "summary": "{\n  \"name\": \"data\",\n  \"rows\": 506,\n  \"fields\": [\n    {\n      \"column\": \"crim\",\n      \"properties\": {\n        \"dtype\": \"number\",\n        \"std\": 8.60154510533249,\n        \"min\": 0.00632,\n        \"max\": 88.9762,\n        \"num_unique_values\": 504,\n        \"samples\": [\n          0.09178,\n          0.05644,\n          0.10574\n        ],\n        \"semantic_type\": \"\",\n        \"description\": \"\"\n      }\n    },\n    {\n      \"column\": \"zn\",\n      \"properties\": {\n        \"dtype\": \"number\",\n        \"std\": 23.32245299451514,\n        \"min\": 0.0,\n        \"max\": 100.0,\n        \"num_unique_values\": 26,\n        \"samples\": [\n          25.0,\n          30.0,\n          18.0\n        ],\n        \"semantic_type\": \"\",\n        \"description\": \"\"\n      }\n    },\n    {\n      \"column\": \"indus\",\n      \"properties\": {\n        \"dtype\": \"number\",\n        \"std\": 6.860352940897585,\n        \"min\": 0.46,\n        \"max\": 27.74,\n        \"num_unique_values\": 76,\n        \"samples\": [\n          8.14,\n          1.47,\n          1.22\n        ],\n        \"semantic_type\": \"\",\n        \"description\": \"\"\n      }\n    },\n    {\n      \"column\": \"chas\",\n      \"properties\": {\n        \"dtype\": \"number\",\n        \"std\": 0,\n        \"min\": 0,\n        \"max\": 1,\n        \"num_unique_values\": 2,\n        \"samples\": [\n          1,\n          0\n        ],\n        \"semantic_type\": \"\",\n        \"description\": \"\"\n      }\n    },\n    {\n      \"column\": \"nox\",\n      \"properties\": {\n        \"dtype\": \"number\",\n        \"std\": 0.11587767566755595,\n        \"min\": 0.385,\n        \"max\": 0.871,\n        \"num_unique_values\": 81,\n        \"samples\": [\n          0.401,\n          0.538\n        ],\n        \"semantic_type\": \"\",\n        \"description\": \"\"\n      }\n    },\n    {\n      \"column\": \"rm\",\n      \"properties\": {\n        \"dtype\": \"number\",\n        \"std\": 0.7026171434153233,\n        \"min\": 3.561,\n        \"max\": 8.78,\n        \"num_unique_values\": 446,\n        \"samples\": [\n          6.849,\n          4.88\n        ],\n        \"semantic_type\": \"\",\n        \"description\": \"\"\n      }\n    },\n    {\n      \"column\": \"age\",\n      \"properties\": {\n        \"dtype\": \"number\",\n        \"std\": 28.148861406903617,\n        \"min\": 2.9,\n        \"max\": 100.0,\n        \"num_unique_values\": 356,\n        \"samples\": [\n          51.8,\n          33.8\n        ],\n        \"semantic_type\": \"\",\n        \"description\": \"\"\n      }\n    },\n    {\n      \"column\": \"dis\",\n      \"properties\": {\n        \"dtype\": \"number\",\n        \"std\": 2.105710126627611,\n        \"min\": 1.1296,\n        \"max\": 12.1265,\n        \"num_unique_values\": 412,\n        \"samples\": [\n          2.2955,\n          4.2515\n        ],\n        \"semantic_type\": \"\",\n        \"description\": \"\"\n      }\n    },\n    {\n      \"column\": \"rad\",\n      \"properties\": {\n        \"dtype\": \"number\",\n        \"std\": 8,\n        \"min\": 1,\n        \"max\": 24,\n        \"num_unique_values\": 9,\n        \"samples\": [\n          7,\n          2\n        ],\n        \"semantic_type\": \"\",\n        \"description\": \"\"\n      }\n    },\n    {\n      \"column\": \"tax\",\n      \"properties\": {\n        \"dtype\": \"number\",\n        \"std\": 168,\n        \"min\": 187,\n        \"max\": 711,\n        \"num_unique_values\": 66,\n        \"samples\": [\n          370,\n          666\n        ],\n        \"semantic_type\": \"\",\n        \"description\": \"\"\n      }\n    },\n    {\n      \"column\": \"ptratio\",\n      \"properties\": {\n        \"dtype\": \"number\",\n        \"std\": 2.1649455237144406,\n        \"min\": 12.6,\n        \"max\": 22.0,\n        \"num_unique_values\": 46,\n        \"samples\": [\n          19.6,\n          15.6\n        ],\n        \"semantic_type\": \"\",\n        \"description\": \"\"\n      }\n    },\n    {\n      \"column\": \"b\",\n      \"properties\": {\n        \"dtype\": \"number\",\n        \"std\": 91.29486438415783,\n        \"min\": 0.32,\n        \"max\": 396.9,\n        \"num_unique_values\": 357,\n        \"samples\": [\n          396.24,\n          395.11\n        ],\n        \"semantic_type\": \"\",\n        \"description\": \"\"\n      }\n    },\n    {\n      \"column\": \"lstat\",\n      \"properties\": {\n        \"dtype\": \"number\",\n        \"std\": 7.141061511348571,\n        \"min\": 1.73,\n        \"max\": 37.97,\n        \"num_unique_values\": 455,\n        \"samples\": [\n          6.15,\n          4.32\n        ],\n        \"semantic_type\": \"\",\n        \"description\": \"\"\n      }\n    },\n    {\n      \"column\": \"medv\",\n      \"properties\": {\n        \"dtype\": \"number\",\n        \"std\": 9.197104087379818,\n        \"min\": 5.0,\n        \"max\": 50.0,\n        \"num_unique_values\": 229,\n        \"samples\": [\n          14.1,\n          22.5\n        ],\n        \"semantic_type\": \"\",\n        \"description\": \"\"\n      }\n    }\n  ]\n}"
            }
          },
          "metadata": {},
          "execution_count": 2
        }
      ]
    },
    {
      "cell_type": "code",
      "source": [
        "x= data.iloc[:,:-1].values\n",
        "y= data.iloc[:,-1].values\n",
        "x,y"
      ],
      "metadata": {
        "id": "PkbSrBTkuM-J",
        "colab": {
          "base_uri": "https://localhost:8080/"
        },
        "outputId": "1cb771bd-4245-407a-a5f9-aad07b7f9d6e"
      },
      "execution_count": 21,
      "outputs": [
        {
          "output_type": "execute_result",
          "data": {
            "text/plain": [
              "(array([[6.3200e-03, 1.8000e+01, 2.3100e+00, ..., 1.5300e+01, 3.9690e+02,\n",
              "         4.9800e+00],\n",
              "        [2.7310e-02, 0.0000e+00, 7.0700e+00, ..., 1.7800e+01, 3.9690e+02,\n",
              "         9.1400e+00],\n",
              "        [2.7290e-02, 0.0000e+00, 7.0700e+00, ..., 1.7800e+01, 3.9283e+02,\n",
              "         4.0300e+00],\n",
              "        ...,\n",
              "        [6.0760e-02, 0.0000e+00, 1.1930e+01, ..., 2.1000e+01, 3.9690e+02,\n",
              "         5.6400e+00],\n",
              "        [1.0959e-01, 0.0000e+00, 1.1930e+01, ..., 2.1000e+01, 3.9345e+02,\n",
              "         6.4800e+00],\n",
              "        [4.7410e-02, 0.0000e+00, 1.1930e+01, ..., 2.1000e+01, 3.9690e+02,\n",
              "         7.8800e+00]]),\n",
              " array([24. , 21.6, 34.7, 33.4, 36.2, 28.7, 22.9, 27.1, 16.5, 18.9, 15. ,\n",
              "        18.9, 21.7, 20.4, 18.2, 19.9, 23.1, 17.5, 20.2, 18.2, 13.6, 19.6,\n",
              "        15.2, 14.5, 15.6, 13.9, 16.6, 14.8, 18.4, 21. , 12.7, 14.5, 13.2,\n",
              "        13.1, 13.5, 18.9, 20. , 21. , 24.7, 30.8, 34.9, 26.6, 25.3, 24.7,\n",
              "        21.2, 19.3, 20. , 16.6, 14.4, 19.4, 19.7, 20.5, 25. , 23.4, 18.9,\n",
              "        35.4, 24.7, 31.6, 23.3, 19.6, 18.7, 16. , 22.2, 25. , 33. , 23.5,\n",
              "        19.4, 22. , 17.4, 20.9, 24.2, 21.7, 22.8, 23.4, 24.1, 21.4, 20. ,\n",
              "        20.8, 21.2, 20.3, 28. , 23.9, 24.8, 22.9, 23.9, 26.6, 22.5, 22.2,\n",
              "        23.6, 28.7, 22.6, 22. , 22.9, 25. , 20.6, 28.4, 21.4, 38.7, 43.8,\n",
              "        33.2, 27.5, 26.5, 18.6, 19.3, 20.1, 19.5, 19.5, 20.4, 19.8, 19.4,\n",
              "        21.7, 22.8, 18.8, 18.7, 18.5, 18.3, 21.2, 19.2, 20.4, 19.3, 22. ,\n",
              "        20.3, 20.5, 17.3, 18.8, 21.4, 15.7, 16.2, 18. , 14.3, 19.2, 19.6,\n",
              "        23. , 18.4, 15.6, 18.1, 17.4, 17.1, 13.3, 17.8, 14. , 14.4, 13.4,\n",
              "        15.6, 11.8, 13.8, 15.6, 14.6, 17.8, 15.4, 21.5, 19.6, 15.3, 19.4,\n",
              "        17. , 15.6, 13.1, 41.3, 24.3, 23.3, 27. , 50. , 50. , 50. , 22.7,\n",
              "        25. , 50. , 23.8, 23.8, 22.3, 17.4, 19.1, 23.1, 23.6, 22.6, 29.4,\n",
              "        23.2, 24.6, 29.9, 37.2, 39.8, 36.2, 37.9, 32.5, 26.4, 29.6, 50. ,\n",
              "        32. , 29.8, 34.9, 37. , 30.5, 36.4, 31.1, 29.1, 50. , 33.3, 30.3,\n",
              "        34.6, 34.9, 32.9, 24.1, 42.3, 48.5, 50. , 22.6, 24.4, 22.5, 24.4,\n",
              "        20. , 21.7, 19.3, 22.4, 28.1, 23.7, 25. , 23.3, 28.7, 21.5, 23. ,\n",
              "        26.7, 21.7, 27.5, 30.1, 44.8, 50. , 37.6, 31.6, 46.7, 31.5, 24.3,\n",
              "        31.7, 41.7, 48.3, 29. , 24. , 25.1, 31.5, 23.7, 23.3, 22. , 20.1,\n",
              "        22.2, 23.7, 17.6, 18.5, 24.3, 20.5, 24.5, 26.2, 24.4, 24.8, 29.6,\n",
              "        42.8, 21.9, 20.9, 44. , 50. , 36. , 30.1, 33.8, 43.1, 48.8, 31. ,\n",
              "        36.5, 22.8, 30.7, 50. , 43.5, 20.7, 21.1, 25.2, 24.4, 35.2, 32.4,\n",
              "        32. , 33.2, 33.1, 29.1, 35.1, 45.4, 35.4, 46. , 50. , 32.2, 22. ,\n",
              "        20.1, 23.2, 22.3, 24.8, 28.5, 37.3, 27.9, 23.9, 21.7, 28.6, 27.1,\n",
              "        20.3, 22.5, 29. , 24.8, 22. , 26.4, 33.1, 36.1, 28.4, 33.4, 28.2,\n",
              "        22.8, 20.3, 16.1, 22.1, 19.4, 21.6, 23.8, 16.2, 17.8, 19.8, 23.1,\n",
              "        21. , 23.8, 23.1, 20.4, 18.5, 25. , 24.6, 23. , 22.2, 19.3, 22.6,\n",
              "        19.8, 17.1, 19.4, 22.2, 20.7, 21.1, 19.5, 18.5, 20.6, 19. , 18.7,\n",
              "        32.7, 16.5, 23.9, 31.2, 17.5, 17.2, 23.1, 24.5, 26.6, 22.9, 24.1,\n",
              "        18.6, 30.1, 18.2, 20.6, 17.8, 21.7, 22.7, 22.6, 25. , 19.9, 20.8,\n",
              "        16.8, 21.9, 27.5, 21.9, 23.1, 50. , 50. , 50. , 50. , 50. , 13.8,\n",
              "        13.8, 15. , 13.9, 13.3, 13.1, 10.2, 10.4, 10.9, 11.3, 12.3,  8.8,\n",
              "         7.2, 10.5,  7.4, 10.2, 11.5, 15.1, 23.2,  9.7, 13.8, 12.7, 13.1,\n",
              "        12.5,  8.5,  5. ,  6.3,  5.6,  7.2, 12.1,  8.3,  8.5,  5. , 11.9,\n",
              "        27.9, 17.2, 27.5, 15. , 17.2, 17.9, 16.3,  7. ,  7.2,  7.5, 10.4,\n",
              "         8.8,  8.4, 16.7, 14.2, 20.8, 13.4, 11.7,  8.3, 10.2, 10.9, 11. ,\n",
              "         9.5, 14.5, 14.1, 16.1, 14.3, 11.7, 13.4,  9.6,  8.7,  8.4, 12.8,\n",
              "        10.5, 17.1, 18.4, 15.4, 10.8, 11.8, 14.9, 12.6, 14.1, 13. , 13.4,\n",
              "        15.2, 16.1, 17.8, 14.9, 14.1, 12.7, 13.5, 14.9, 20. , 16.4, 17.7,\n",
              "        19.5, 20.2, 21.4, 19.9, 19. , 19.1, 19.1, 20.1, 19.9, 19.6, 23.2,\n",
              "        29.8, 13.8, 13.3, 16.7, 12. , 14.6, 21.4, 23. , 23.7, 25. , 21.8,\n",
              "        20.6, 21.2, 19.1, 20.6, 15.2,  7. ,  8.1, 13.6, 20.1, 21.8, 24.5,\n",
              "        23.1, 19.7, 18.3, 21.2, 17.5, 16.8, 22.4, 20.6, 23.9, 22. , 11.9]))"
            ]
          },
          "metadata": {},
          "execution_count": 21
        }
      ]
    },
    {
      "cell_type": "code",
      "source": [
        "x.shape,y.shape"
      ],
      "metadata": {
        "id": "TZz1N_EF04Ii",
        "colab": {
          "base_uri": "https://localhost:8080/"
        },
        "outputId": "451bf28d-fc89-4296-8f5e-38d67c6116b7"
      },
      "execution_count": 19,
      "outputs": [
        {
          "output_type": "execute_result",
          "data": {
            "text/plain": [
              "((506, 13), (506,))"
            ]
          },
          "metadata": {},
          "execution_count": 19
        }
      ]
    },
    {
      "cell_type": "code",
      "source": [
        "x_train,x_test,y_train,y_test= train_test_split(x,y,test_size=0.2)"
      ],
      "metadata": {
        "id": "ELJWh-GJuPdQ"
      },
      "execution_count": 5,
      "outputs": []
    },
    {
      "cell_type": "code",
      "source": [
        "x_train.shape,x_test.shape,y_train.shape,y_test.shape"
      ],
      "metadata": {
        "id": "39JqN_zMufkj",
        "colab": {
          "base_uri": "https://localhost:8080/"
        },
        "outputId": "a6460c82-a37f-4d58-e738-3354e2c84019"
      },
      "execution_count": 20,
      "outputs": [
        {
          "output_type": "execute_result",
          "data": {
            "text/plain": [
              "((404, 13), (102, 13), (404,), (102,))"
            ]
          },
          "metadata": {},
          "execution_count": 20
        }
      ]
    },
    {
      "cell_type": "code",
      "source": [
        "scaler = StandardScaler().fit(x_train)\n",
        "x_train_scaled = scaler.transform(x_train)\n",
        "x_test_scaled = scaler.transform(x_test)\n"
      ],
      "metadata": {
        "id": "gfeNWXNruWVJ"
      },
      "execution_count": 7,
      "outputs": []
    },
    {
      "cell_type": "code",
      "source": [
        "model=keras.Sequential([\n",
        "    keras.layers.Dense(64,input_shape=(13,),activation='relu'),\n",
        "    keras.layers.Dense(32,activation='relu'),\n",
        "    keras.layers.Dense(16,activation='relu'),\n",
        "    keras.layers.Dense(2,activation='relu'),\n",
        "    keras.layers.Dense(1)\n",
        "])\n"
      ],
      "metadata": {
        "id": "6QFIHprMubmp"
      },
      "execution_count": 8,
      "outputs": []
    },
    {
      "cell_type": "code",
      "source": [
        "model.compile(optimizer='adam',loss='mean_squared_error',metrics=['mae'])"
      ],
      "metadata": {
        "id": "sQEXQBRFumLu"
      },
      "execution_count": 9,
      "outputs": []
    },
    {
      "cell_type": "code",
      "source": [
        "model.summary()"
      ],
      "metadata": {
        "id": "L4Matih2uq6W",
        "colab": {
          "base_uri": "https://localhost:8080/"
        },
        "outputId": "140697ef-6fc3-4965-c2be-e393330b7fc1"
      },
      "execution_count": 10,
      "outputs": [
        {
          "output_type": "stream",
          "name": "stdout",
          "text": [
            "Model: \"sequential\"\n",
            "_________________________________________________________________\n",
            " Layer (type)                Output Shape              Param #   \n",
            "=================================================================\n",
            " dense (Dense)               (None, 64)                896       \n",
            "                                                                 \n",
            " dense_1 (Dense)             (None, 32)                2080      \n",
            "                                                                 \n",
            " dense_2 (Dense)             (None, 16)                528       \n",
            "                                                                 \n",
            " dense_3 (Dense)             (None, 2)                 34        \n",
            "                                                                 \n",
            " dense_4 (Dense)             (None, 1)                 3         \n",
            "                                                                 \n",
            "=================================================================\n",
            "Total params: 3541 (13.83 KB)\n",
            "Trainable params: 3541 (13.83 KB)\n",
            "Non-trainable params: 0 (0.00 Byte)\n",
            "_________________________________________________________________\n"
          ]
        }
      ]
    },
    {
      "cell_type": "code",
      "source": [
        "history=model.fit(x_train_scaled, y_train, epochs=80,batch_size=32,validation_split=0.2)"
      ],
      "metadata": {
        "id": "r-Tp7IQQuuiG",
        "colab": {
          "base_uri": "https://localhost:8080/"
        },
        "outputId": "170a0e2c-6861-47f3-bbb9-d97cf37ce24f"
      },
      "execution_count": 11,
      "outputs": [
        {
          "output_type": "stream",
          "name": "stdout",
          "text": [
            "Epoch 1/80\n",
            "11/11 [==============================] - 2s 29ms/step - loss: 572.3147 - mae: 22.0144 - val_loss: 652.4960 - val_mae: 23.6990\n",
            "Epoch 2/80\n",
            "11/11 [==============================] - 0s 7ms/step - loss: 571.5108 - mae: 21.9951 - val_loss: 651.9739 - val_mae: 23.6880\n",
            "Epoch 3/80\n",
            "11/11 [==============================] - 0s 6ms/step - loss: 571.0318 - mae: 21.9841 - val_loss: 651.4548 - val_mae: 23.6770\n",
            "Epoch 4/80\n",
            "11/11 [==============================] - 0s 7ms/step - loss: 570.5509 - mae: 21.9730 - val_loss: 650.9319 - val_mae: 23.6659\n",
            "Epoch 5/80\n",
            "11/11 [==============================] - 0s 6ms/step - loss: 570.0641 - mae: 21.9621 - val_loss: 650.4139 - val_mae: 23.6550\n",
            "Epoch 6/80\n",
            "11/11 [==============================] - 0s 8ms/step - loss: 569.5850 - mae: 21.9511 - val_loss: 649.8965 - val_mae: 23.6440\n",
            "Epoch 7/80\n",
            "11/11 [==============================] - 0s 8ms/step - loss: 569.1022 - mae: 21.9402 - val_loss: 649.3839 - val_mae: 23.6332\n",
            "Epoch 8/80\n",
            "11/11 [==============================] - 0s 7ms/step - loss: 568.6240 - mae: 21.9292 - val_loss: 648.8585 - val_mae: 23.6221\n",
            "Epoch 9/80\n",
            "11/11 [==============================] - 0s 8ms/step - loss: 568.1297 - mae: 21.9182 - val_loss: 648.3378 - val_mae: 23.6110\n",
            "Epoch 10/80\n",
            "11/11 [==============================] - 0s 7ms/step - loss: 567.6356 - mae: 21.9066 - val_loss: 647.7708 - val_mae: 23.5986\n",
            "Epoch 11/80\n",
            "11/11 [==============================] - 0s 7ms/step - loss: 566.9849 - mae: 21.8909 - val_loss: 646.9035 - val_mae: 23.5785\n",
            "Epoch 12/80\n",
            "11/11 [==============================] - 0s 7ms/step - loss: 565.6368 - mae: 21.8576 - val_loss: 644.3893 - val_mae: 23.5240\n",
            "Epoch 13/80\n",
            "11/11 [==============================] - 0s 9ms/step - loss: 561.9150 - mae: 21.7698 - val_loss: 637.7697 - val_mae: 23.3843\n",
            "Epoch 14/80\n",
            "11/11 [==============================] - 0s 9ms/step - loss: 552.5555 - mae: 21.5490 - val_loss: 620.8763 - val_mae: 23.0321\n",
            "Epoch 15/80\n",
            "11/11 [==============================] - 0s 6ms/step - loss: 530.0526 - mae: 21.0252 - val_loss: 581.2510 - val_mae: 22.2057\n",
            "Epoch 16/80\n",
            "11/11 [==============================] - 0s 6ms/step - loss: 482.9227 - mae: 19.8486 - val_loss: 500.0450 - val_mae: 20.4409\n",
            "Epoch 17/80\n",
            "11/11 [==============================] - 0s 7ms/step - loss: 393.0720 - mae: 17.5368 - val_loss: 361.5480 - val_mae: 17.0589\n",
            "Epoch 18/80\n",
            "11/11 [==============================] - 0s 11ms/step - loss: 259.1422 - mae: 13.5795 - val_loss: 180.9924 - val_mae: 11.5914\n",
            "Epoch 19/80\n",
            "11/11 [==============================] - 0s 9ms/step - loss: 131.6148 - mae: 8.9827 - val_loss: 61.5950 - val_mae: 6.5721\n",
            "Epoch 20/80\n",
            "11/11 [==============================] - 0s 10ms/step - loss: 83.4656 - mae: 7.1439 - val_loss: 44.1544 - val_mae: 5.4630\n",
            "Epoch 21/80\n",
            "11/11 [==============================] - 0s 9ms/step - loss: 68.2112 - mae: 6.2637 - val_loss: 29.2652 - val_mae: 4.4850\n",
            "Epoch 22/80\n",
            "11/11 [==============================] - 0s 11ms/step - loss: 51.5420 - mae: 5.3001 - val_loss: 25.4979 - val_mae: 4.0754\n",
            "Epoch 23/80\n",
            "11/11 [==============================] - 0s 13ms/step - loss: 42.9329 - mae: 4.7859 - val_loss: 22.1638 - val_mae: 3.7904\n",
            "Epoch 24/80\n",
            "11/11 [==============================] - 0s 10ms/step - loss: 36.1707 - mae: 4.4167 - val_loss: 21.0091 - val_mae: 3.6836\n",
            "Epoch 25/80\n",
            "11/11 [==============================] - 0s 9ms/step - loss: 32.9379 - mae: 4.2765 - val_loss: 21.6023 - val_mae: 3.7739\n",
            "Epoch 26/80\n",
            "11/11 [==============================] - 0s 10ms/step - loss: 29.8635 - mae: 4.0438 - val_loss: 21.6398 - val_mae: 3.7703\n",
            "Epoch 27/80\n",
            "11/11 [==============================] - 0s 9ms/step - loss: 27.7198 - mae: 3.8050 - val_loss: 22.7109 - val_mae: 3.8338\n",
            "Epoch 28/80\n",
            "11/11 [==============================] - 0s 8ms/step - loss: 26.2983 - mae: 3.7891 - val_loss: 25.7781 - val_mae: 4.0408\n",
            "Epoch 29/80\n",
            "11/11 [==============================] - 0s 8ms/step - loss: 24.8936 - mae: 3.7244 - val_loss: 26.6826 - val_mae: 4.0639\n",
            "Epoch 30/80\n",
            "11/11 [==============================] - 0s 11ms/step - loss: 23.7458 - mae: 3.5695 - val_loss: 25.7007 - val_mae: 3.9764\n",
            "Epoch 31/80\n",
            "11/11 [==============================] - 0s 9ms/step - loss: 23.3951 - mae: 3.4744 - val_loss: 25.5883 - val_mae: 3.9324\n",
            "Epoch 32/80\n",
            "11/11 [==============================] - 0s 11ms/step - loss: 22.2871 - mae: 3.4104 - val_loss: 25.0786 - val_mae: 3.9209\n",
            "Epoch 33/80\n",
            "11/11 [==============================] - 0s 11ms/step - loss: 21.6244 - mae: 3.3975 - val_loss: 25.3716 - val_mae: 3.9288\n",
            "Epoch 34/80\n",
            "11/11 [==============================] - 0s 10ms/step - loss: 21.1409 - mae: 3.3295 - val_loss: 25.6748 - val_mae: 3.9135\n",
            "Epoch 35/80\n",
            "11/11 [==============================] - 0s 10ms/step - loss: 20.4645 - mae: 3.2667 - val_loss: 25.2453 - val_mae: 3.8871\n",
            "Epoch 36/80\n",
            "11/11 [==============================] - 0s 9ms/step - loss: 19.7017 - mae: 3.2303 - val_loss: 24.6096 - val_mae: 3.8405\n",
            "Epoch 37/80\n",
            "11/11 [==============================] - 0s 10ms/step - loss: 19.5582 - mae: 3.2407 - val_loss: 24.8072 - val_mae: 3.8418\n",
            "Epoch 38/80\n",
            "11/11 [==============================] - 0s 10ms/step - loss: 19.2836 - mae: 3.2495 - val_loss: 25.6763 - val_mae: 3.8637\n",
            "Epoch 39/80\n",
            "11/11 [==============================] - 0s 12ms/step - loss: 18.3094 - mae: 3.1011 - val_loss: 25.8375 - val_mae: 3.8497\n",
            "Epoch 40/80\n",
            "11/11 [==============================] - 0s 13ms/step - loss: 18.0759 - mae: 3.0650 - val_loss: 25.8742 - val_mae: 3.8408\n",
            "Epoch 41/80\n",
            "11/11 [==============================] - 0s 11ms/step - loss: 17.6813 - mae: 3.0329 - val_loss: 25.1411 - val_mae: 3.7761\n",
            "Epoch 42/80\n",
            "11/11 [==============================] - 0s 11ms/step - loss: 17.2418 - mae: 3.0065 - val_loss: 25.0876 - val_mae: 3.7607\n",
            "Epoch 43/80\n",
            "11/11 [==============================] - 0s 8ms/step - loss: 17.0208 - mae: 3.0002 - val_loss: 24.4305 - val_mae: 3.7044\n",
            "Epoch 44/80\n",
            "11/11 [==============================] - 0s 9ms/step - loss: 16.6779 - mae: 2.9213 - val_loss: 23.2254 - val_mae: 3.6103\n",
            "Epoch 45/80\n",
            "11/11 [==============================] - 0s 9ms/step - loss: 16.4252 - mae: 2.9062 - val_loss: 22.3267 - val_mae: 3.5283\n",
            "Epoch 46/80\n",
            "11/11 [==============================] - 0s 9ms/step - loss: 16.0782 - mae: 2.8726 - val_loss: 22.6588 - val_mae: 3.5405\n",
            "Epoch 47/80\n",
            "11/11 [==============================] - 0s 9ms/step - loss: 15.9398 - mae: 2.8674 - val_loss: 23.8503 - val_mae: 3.6171\n",
            "Epoch 48/80\n",
            "11/11 [==============================] - 0s 13ms/step - loss: 15.7122 - mae: 2.8473 - val_loss: 22.7529 - val_mae: 3.5206\n",
            "Epoch 49/80\n",
            "11/11 [==============================] - 0s 8ms/step - loss: 15.7054 - mae: 2.8711 - val_loss: 22.4195 - val_mae: 3.4683\n",
            "Epoch 50/80\n",
            "11/11 [==============================] - 0s 8ms/step - loss: 15.1185 - mae: 2.8025 - val_loss: 22.7118 - val_mae: 3.4831\n",
            "Epoch 51/80\n",
            "11/11 [==============================] - 0s 6ms/step - loss: 14.8187 - mae: 2.7113 - val_loss: 22.6871 - val_mae: 3.4648\n",
            "Epoch 52/80\n",
            "11/11 [==============================] - 0s 6ms/step - loss: 14.6200 - mae: 2.6776 - val_loss: 22.4123 - val_mae: 3.4172\n",
            "Epoch 53/80\n",
            "11/11 [==============================] - 0s 6ms/step - loss: 14.4646 - mae: 2.6873 - val_loss: 21.7431 - val_mae: 3.3577\n",
            "Epoch 54/80\n",
            "11/11 [==============================] - 0s 6ms/step - loss: 14.2416 - mae: 2.6801 - val_loss: 21.6433 - val_mae: 3.3434\n",
            "Epoch 55/80\n",
            "11/11 [==============================] - 0s 7ms/step - loss: 14.1116 - mae: 2.6356 - val_loss: 21.3324 - val_mae: 3.3133\n",
            "Epoch 56/80\n",
            "11/11 [==============================] - 0s 6ms/step - loss: 13.9287 - mae: 2.6363 - val_loss: 20.9741 - val_mae: 3.2679\n",
            "Epoch 57/80\n",
            "11/11 [==============================] - 0s 7ms/step - loss: 13.6625 - mae: 2.6093 - val_loss: 21.5715 - val_mae: 3.3049\n",
            "Epoch 58/80\n",
            "11/11 [==============================] - 0s 7ms/step - loss: 13.8555 - mae: 2.5979 - val_loss: 21.9529 - val_mae: 3.3119\n",
            "Epoch 59/80\n",
            "11/11 [==============================] - 0s 8ms/step - loss: 13.5837 - mae: 2.5981 - val_loss: 21.2266 - val_mae: 3.2367\n",
            "Epoch 60/80\n",
            "11/11 [==============================] - 0s 8ms/step - loss: 13.1898 - mae: 2.5850 - val_loss: 20.8689 - val_mae: 3.2066\n",
            "Epoch 61/80\n",
            "11/11 [==============================] - 0s 10ms/step - loss: 13.1683 - mae: 2.5540 - val_loss: 20.5581 - val_mae: 3.1744\n",
            "Epoch 62/80\n",
            "11/11 [==============================] - 0s 7ms/step - loss: 13.0286 - mae: 2.5732 - val_loss: 21.2689 - val_mae: 3.1603\n",
            "Epoch 63/80\n",
            "11/11 [==============================] - 0s 8ms/step - loss: 13.2279 - mae: 2.6390 - val_loss: 23.7261 - val_mae: 3.2742\n",
            "Epoch 64/80\n",
            "11/11 [==============================] - 0s 7ms/step - loss: 12.9436 - mae: 2.5682 - val_loss: 22.9918 - val_mae: 3.2355\n",
            "Epoch 65/80\n",
            "11/11 [==============================] - 0s 7ms/step - loss: 12.6389 - mae: 2.5048 - val_loss: 21.4229 - val_mae: 3.1426\n",
            "Epoch 66/80\n",
            "11/11 [==============================] - 0s 7ms/step - loss: 12.5096 - mae: 2.5034 - val_loss: 21.1857 - val_mae: 3.1213\n",
            "Epoch 67/80\n",
            "11/11 [==============================] - 0s 6ms/step - loss: 12.3854 - mae: 2.4705 - val_loss: 20.5443 - val_mae: 3.0735\n",
            "Epoch 68/80\n",
            "11/11 [==============================] - 0s 6ms/step - loss: 12.0693 - mae: 2.4589 - val_loss: 20.6512 - val_mae: 3.0505\n",
            "Epoch 69/80\n",
            "11/11 [==============================] - 0s 6ms/step - loss: 11.9956 - mae: 2.4651 - val_loss: 19.7466 - val_mae: 2.9735\n",
            "Epoch 70/80\n",
            "11/11 [==============================] - 0s 8ms/step - loss: 11.8781 - mae: 2.4354 - val_loss: 19.4449 - val_mae: 2.9634\n",
            "Epoch 71/80\n",
            "11/11 [==============================] - 0s 6ms/step - loss: 11.7978 - mae: 2.4175 - val_loss: 19.7124 - val_mae: 2.9550\n",
            "Epoch 72/80\n",
            "11/11 [==============================] - 0s 8ms/step - loss: 11.8054 - mae: 2.4426 - val_loss: 20.2727 - val_mae: 2.9712\n",
            "Epoch 73/80\n",
            "11/11 [==============================] - 0s 10ms/step - loss: 11.6293 - mae: 2.4399 - val_loss: 19.4380 - val_mae: 2.9028\n",
            "Epoch 74/80\n",
            "11/11 [==============================] - 0s 8ms/step - loss: 11.5338 - mae: 2.4087 - val_loss: 19.3729 - val_mae: 2.9190\n",
            "Epoch 75/80\n",
            "11/11 [==============================] - 0s 7ms/step - loss: 11.5062 - mae: 2.4025 - val_loss: 19.8552 - val_mae: 2.9247\n",
            "Epoch 76/80\n",
            "11/11 [==============================] - 0s 8ms/step - loss: 11.3496 - mae: 2.4004 - val_loss: 19.8620 - val_mae: 2.8920\n",
            "Epoch 77/80\n",
            "11/11 [==============================] - 0s 6ms/step - loss: 11.3166 - mae: 2.3827 - val_loss: 19.0971 - val_mae: 2.8562\n",
            "Epoch 78/80\n",
            "11/11 [==============================] - 0s 7ms/step - loss: 11.2667 - mae: 2.3609 - val_loss: 19.3916 - val_mae: 2.8701\n",
            "Epoch 79/80\n",
            "11/11 [==============================] - 0s 7ms/step - loss: 11.0902 - mae: 2.3477 - val_loss: 19.3197 - val_mae: 2.8393\n",
            "Epoch 80/80\n",
            "11/11 [==============================] - 0s 7ms/step - loss: 11.0487 - mae: 2.3512 - val_loss: 19.5663 - val_mae: 2.8449\n"
          ]
        }
      ]
    },
    {
      "cell_type": "code",
      "source": [
        "y_pred = model.predict(x_test_scaled)\n",
        "loss, mae = model.evaluate(x_test_scaled, y_test)\n",
        "print(f\"Test Loss: {loss}\")\n",
        "print(f\"Test Mean Absolute Error: {mae}\")\n",
        "r2 = r2_score(y_test, y_pred)\n",
        "print(f\"R-squared: {r2}\")"
      ],
      "metadata": {
        "id": "RTRgLKbxuy5P",
        "colab": {
          "base_uri": "https://localhost:8080/"
        },
        "outputId": "aedc81ef-e913-4c60-838f-8229f190da4e"
      },
      "execution_count": 12,
      "outputs": [
        {
          "output_type": "stream",
          "name": "stdout",
          "text": [
            "4/4 [==============================] - 0s 3ms/step\n",
            "4/4 [==============================] - 0s 4ms/step - loss: 8.6519 - mae: 2.3164\n",
            "Test Loss: 8.651898384094238\n",
            "Test Mean Absolute Error: 2.316356658935547\n",
            "R-squared: 0.8695897132287602\n"
          ]
        }
      ]
    },
    {
      "cell_type": "code",
      "source": [
        "plt.figure(figsize=(6,5))\n",
        "plt.scatter(y_test, y_pred, color='blue', label='Predicted Values')\n",
        "plt.scatter(y_test, y_test, color='green', label='Actual Values')\n",
        "plt.xlabel('Actual Values')\n",
        "plt.ylabel('Predicted Values')\n",
        "plt.title('Actual vs Predicted Values')\n",
        "plt.legend(loc='upper left')\n",
        "plt.show()"
      ],
      "metadata": {
        "id": "kTFVHbcAu-G8",
        "colab": {
          "base_uri": "https://localhost:8080/",
          "height": 487
        },
        "outputId": "d9fdc537-1701-479a-cd6f-2789fbd57de2"
      },
      "execution_count": 13,
      "outputs": [
        {
          "output_type": "display_data",
          "data": {
            "text/plain": [
              "<Figure size 600x500 with 1 Axes>"
            ],
            "image/png": "[encoded data removed]"
          },
          "metadata": {}
        }
      ]
    },
    {
      "cell_type": "code",
      "source": [
        "plt.figure(figsize=(4,4))\n",
        "plt.plot(history.history['loss'], label='Train')\n",
        "plt.plot(history.history['val_loss'], label='Validation')\n",
        "plt.title('Model loss')\n",
        "plt.xlabel('Epoch')\n",
        "plt.ylabel('Loss')\n",
        "plt.show()"
      ],
      "metadata": {
        "id": "lMhARdJxvFot",
        "colab": {
          "base_uri": "https://localhost:8080/",
          "height": 410
        },
        "outputId": "14b39350-a72c-49ad-fcae-76b666f64d2b"
      },
      "execution_count": 14,
      "outputs": [
        {
          "output_type": "display_data",
          "data": {
            "text/plain": [
              "<Figure size 400x400 with 1 Axes>"
            ],
            "image/png": "[encoded data removed]"
          },
          "metadata": {}
        }
      ]
    },
    {
      "cell_type": "code",
      "source": [
        "def get_user_input_and_predict(model, scaler):\n",
        "    feature_names = [\n",
        "        'per capita crime rate by town',\n",
        "        'Proportion of residential land zoned',\n",
        "        'Proportion of non-retail business acres',\n",
        "        'Charles River :1 if tract bounds river; 0 otherwise',\n",
        "        'Nitric Oxides concentration',\n",
        "        'Number of rooms',\n",
        "        'Proportion of owner-occupied units',\n",
        "        'Weighted distances to five Boston employment centres',\n",
        "        'Index of accessibility to radial highways',\n",
        "        'Full-value property-tax rate per $10,000',\n",
        "        'Pupil-teacher ratio by town',\n",
        "        'proportion of blacks by town',\n",
        "        '% lower status of the population'\n",
        "\n",
        "    ]\n",
        "\n",
        "    print(\"Please enter the values in numbers for the following features:\")\n",
        "    user_input = []\n",
        "    for i, feature in enumerate(feature_names):\n",
        "        value = float(input(f\"{feature}: \"))\n",
        "        user_input.append(value)\n",
        "    user_input = np.array(user_input).reshape(1, -1)\n",
        "    user_input_scaled = scaler.transform(user_input)\n",
        "    prediction = model.predict(user_input_scaled)\n",
        "    return prediction\n",
        "\n",
        "y_pred = get_user_input_and_predict(model, scaler)\n",
        "print(f\"Median Value of the house : {y_pred[0][0]}\")"
      ],
      "metadata": {
        "id": "kWBsYaXVqGOI",
        "colab": {
          "base_uri": "https://localhost:8080/"
        },
        "outputId": "b6e254aa-0ac9-4b5b-ea8d-7bc2d7d0285b"
      },
      "execution_count": 18,
      "outputs": [
        {
          "output_type": "stream",
          "name": "stdout",
          "text": [
            "Please enter the values in numbers for the following features:\n",
            "per capita crime rate by town: 0.02985\n",
            "Proportion of residential land zoned: 0\n",
            "Proportion of non-retail business acres: 2.18\n",
            "Charles River :1 if tract bounds river; 0 otherwise: 0\n",
            "Nitric Oxides concentration: 0.458\n",
            "Number of rooms: 6.43\n",
            "Proportion of owner-occupied units: 58.7\n",
            "Weighted distances to five Boston employment centres: 6.0622\n",
            "Index of accessibility to radial highways: 3\n",
            "Full-value property-tax rate per $10,000: 222\n",
            "Pupil-teacher ratio by town: 18.7\n",
            "proportion of blacks by town: 394.12\n",
            "% lower status of the population: 5.21\n",
            "1/1 [==============================] - 0s 26ms/step\n",
            "Median Value of the house : 26.106975555419922\n"
          ]
        }
      ]
    }
  ]
}