{
  "nbformat": 4,
  "nbformat_minor": 0,
  "metadata": {
    "colab": {
      "private_outputs": true,
      "provenance": [],
      "cell_execution_strategy": "setup",
      "authorship_tag": "ABX9TyOQp+8ir1dh8RbyXccNCWW/",
      "include_colab_link": true
    },
    "kernelspec": {
      "name": "python3",
      "display_name": "Python 3"
    },
    "language_info": {
      "name": "python"
    }
  },
  "cells": [
    {
      "cell_type": "markdown",
      "metadata": {
        "id": "view-in-github",
        "colab_type": "text"
      },
      "source": [
        "<a href=\"https://colab.research.google.com/github/Sachinsachin21/Deep_learning/blob/main/LSTM_rnn.ipynb\" target=\"_parent\"><img src=\"https://colab.research.google.com/assets/colab-badge.svg\" alt=\"Open In Colab\"/></a>"
      ]
    },
    {
      "cell_type": "code",
      "execution_count": null,
      "metadata": {
        "id": "dKGMBs0yIfjg"
      },
      "outputs": [],
      "source": [
        "import pandas as pd\n",
        "import numpy as np\n",
        "import pickle\n",
        "import tensorflow as tf\n",
        "from tensorflow.keras.preprocessing.text import one_hot,Tokenizer\n",
        "from tensorflow.keras.preprocessing.sequence import pad_sequences\n",
        "from sklearn.model_selection import train_test_split\n",
        "from keras.models import load_model\n",
        "from tensorflow.keras.models import Sequential\n",
        "from tensorflow.keras.layers import Embedding,LSTM,Dense"
      ]
    },
    {
      "cell_type": "code",
      "source": [
        "s = pd.read_csv(\"IMDB Dataset.csv\")\n",
        "s.head(10)"
      ],
      "metadata": {
        "id": "bQ8tLKlXKR0v"
      },
      "execution_count": null,
      "outputs": []
    },
    {
      "cell_type": "code",
      "source": [
        "s[\"sentiment\"].replace({\"positive\":1,\"negative\":0},inplace=True)\n",
        "s.head()"
      ],
      "metadata": {
        "id": "cbwkeAfgMVAz"
      },
      "execution_count": null,
      "outputs": []
    },
    {
      "cell_type": "code",
      "source": [
        "x = np.array(s[\"review\"].values)\n",
        "y = np.array(s[\"sentiment\"].values)"
      ],
      "metadata": {
        "id": "bh4E9ymAMqhA"
      },
      "execution_count": null,
      "outputs": []
    },
    {
      "cell_type": "code",
      "source": [
        "x_filtered = []\n",
        "\n",
        "for review in x:\n",
        "    review = review.lower()\n",
        "    for i in review:\n",
        "        punc = '''  !()-[]{};:'\"\\,<>./?@#$%^&*_~  '''\n",
        "        if i in punc :\n",
        "            review = review.replace(i, \" \")\n",
        "    x_filtered.append(review)\n",
        "x_filtered"
      ],
      "metadata": {
        "id": "B6pD3ZOqMvMy"
      },
      "execution_count": null,
      "outputs": []
    },
    {
      "cell_type": "code",
      "source": [
        "vocalbulary_size = 5000\n",
        "onehot_encoded = [one_hot(review,vocalbulary_size) for review in x_filtered]\n",
        "onehot_encoded"
      ],
      "metadata": {
        "id": "_eCsRBZ4OC7N"
      },
      "execution_count": null,
      "outputs": []
    },
    {
      "cell_type": "code",
      "source": [
        "max_length=500\n",
        "x_padded = pad_sequences(onehot_encoded,max_length,padding=\"post\")\n",
        "x_padded"
      ],
      "metadata": {
        "id": "WOtR8AtIOqad"
      },
      "execution_count": null,
      "outputs": []
    },
    {
      "cell_type": "code",
      "source": [
        "x_train,x_test,y_train,y_test = train_test_split(x_padded,y,test_size=0.2)"
      ],
      "metadata": {
        "id": "5h5jL4_MOwVz"
      },
      "execution_count": null,
      "outputs": []
    },
    {
      "cell_type": "code",
      "source": [
        "model = Sequential()\n",
        "embeded_vector_size = 35\n",
        "model.add(Embedding(vocalbulary_size,embeded_vector_size,input_length=max_length))\n",
        "model.add(LSTM(100))\n",
        "model.add(Dense(1,activation=\"sigmoid\"))"
      ],
      "metadata": {
        "id": "NuU13vHdPFx_"
      },
      "execution_count": null,
      "outputs": []
    },
    {
      "cell_type": "code",
      "source": [
        "model.compile(optimizer='adam', loss='binary_crossentropy',metrics=[\"accuracy\"])"
      ],
      "metadata": {
        "id": "H4R389bXQQfc"
      },
      "execution_count": null,
      "outputs": []
    },
    {
      "cell_type": "code",
      "source": [
        "model.build((None, max_length))\n",
        "model.summary()"
      ],
      "metadata": {
        "id": "GVkzc_G2QS9W"
      },
      "execution_count": null,
      "outputs": []
    },
    {
      "cell_type": "code",
      "source": [
        "model.fit(x_train, y_train, epochs=30, validation_data=(x_test, y_test))"
      ],
      "metadata": {
        "id": "143lfSlzw9Xp"
      },
      "execution_count": null,
      "outputs": []
    },
    {
      "cell_type": "code",
      "source": [
        "model.evaluate(x_test,y_test)"
      ],
      "metadata": {
        "id": "k7EBYAnpVW6T"
      },
      "execution_count": null,
      "outputs": []
    },
    {
      "cell_type": "code",
      "source": [
        "model.save('sentiment_model.h5')"
      ],
      "metadata": {
        "id": "JNWbgRD8w-yG"
      },
      "execution_count": null,
      "outputs": []
    },
    {
      "cell_type": "code",
      "source": [
        "tokenizer = Tokenizer(num_words = 10000)\n",
        "tokenizer.fit_on_texts(x_filtered)\n",
        "with open('tokenizer.pkl', 'wb') as f:\n",
        "    pickle.dump(tokenizer, f)"
      ],
      "metadata": {
        "id": "ZvaF_hMexHz-"
      },
      "execution_count": null,
      "outputs": []
    },
    {
      "cell_type": "code",
      "source": [
        "def get_sentiment(sentence: str):\n",
        "    if not isinstance(sentence, str):\n",
        "        raise ValueError(\"Input needs to be of type 'str'\")\n",
        "    sentence = sentence.lower()\n",
        "    sentence = ''.join(char for char in sentence if char.isalnum() or char.isspace())\n",
        "    with open('tokenizer.pkl', 'rb') as f:\n",
        "        tokenizer = pickle.load(f)\n",
        "    sequence = tokenizer.texts_to_sequences([sentence])\n",
        "    padded_sequence = pad_sequences(sequence, maxlen=500)\n",
        "    model = load_model('sentiment_model.h5')\n",
        "    predicted = model.predict(padded_sequence)\n",
        "    sentiment = \"Positive\" if predicted[0][0] > 0.5 else \"Negative\"\n",
        "    return sentiment\n",
        "\n",
        "print(get_sentiment(\"The software crashed frequently, causing a lot of frustration and lost work.\"))"
      ],
      "metadata": {
        "id": "YLRCDaEyT_4M"
      },
      "execution_count": null,
      "outputs": []
    }
  ]
}