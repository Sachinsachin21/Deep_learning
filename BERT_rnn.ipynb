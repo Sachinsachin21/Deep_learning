{
  "nbformat": 4,
  "nbformat_minor": 0,
  "metadata": {
    "colab": {
      "private_outputs": true,
      "provenance": [],
      "authorship_tag": "ABX9TyOe8SukYPmwJp/fxnD3tgc5",
      "include_colab_link": true
    },
    "kernelspec": {
      "name": "python3",
      "display_name": "Python 3"
    },
    "language_info": {
      "name": "python"
    }
  },
  "cells": [
    {
      "cell_type": "markdown",
      "metadata": {
        "id": "view-in-github",
        "colab_type": "text"
      },
      "source": [
        "<a href=\"https://colab.research.google.com/github/Sachinsachin21/Deep_learning/blob/main/BERT_rnn.ipynb\" target=\"_parent\"><img src=\"https://colab.research.google.com/assets/colab-badge.svg\" alt=\"Open In Colab\"/></a>"
      ]
    },
    {
      "cell_type": "code",
      "execution_count": null,
      "metadata": {
        "id": "wyYmxp93pyIr"
      },
      "outputs": [],
      "source": [
        "!pip install torch torchvision torchaudio --index-url https://download.pytorch.org/whl/cu124"
      ]
    },
    {
      "cell_type": "code",
      "source": [
        "!pip install transformers requests beautifulsoup4 pandas numpy"
      ],
      "metadata": {
        "id": "abghckPEpzdD"
      },
      "execution_count": null,
      "outputs": []
    },
    {
      "cell_type": "code",
      "source": [
        "from transformers import AutoTokenizer, AutoModelForSequenceClassification\n",
        "import torch\n",
        "import requests\n",
        "from bs4 import BeautifulSoup\n",
        "import re\n",
        "import numpy as np\n",
        "import pandas as pd"
      ],
      "metadata": {
        "id": "yawpTfg_lrxV"
      },
      "execution_count": null,
      "outputs": []
    },
    {
      "cell_type": "code",
      "source": [
        "tokenizer = AutoTokenizer.from_pretrained('nlptown/bert-base-multilingual-uncased-sentiment')\n",
        "model = AutoModelForSequenceClassification.from_pretrained('nlptown/bert-base-multilingual-uncased-sentiment')\n",
        "tokenizer,model"
      ],
      "metadata": {
        "id": "vumlClw-lvKG"
      },
      "execution_count": null,
      "outputs": []
    },
    {
      "cell_type": "code",
      "source": [
        "tokens = tokenizer.encode('It was good but couldve been better. Great', return_tensors='pt')\n",
        "tokens"
      ],
      "metadata": {
        "id": "t2GalzpmmpA9"
      },
      "execution_count": null,
      "outputs": []
    },
    {
      "cell_type": "code",
      "source": [
        "result = model(tokens)\n",
        "result"
      ],
      "metadata": {
        "id": "pAUQe6W-m0SE"
      },
      "execution_count": null,
      "outputs": []
    },
    {
      "cell_type": "code",
      "source": [
        "result.logits"
      ],
      "metadata": {
        "id": "mCrAGv9Jm3uM"
      },
      "execution_count": null,
      "outputs": []
    },
    {
      "cell_type": "code",
      "source": [
        "int(torch.argmax(result.logits))+1"
      ],
      "metadata": {
        "id": "4ojCCnDgm521"
      },
      "execution_count": null,
      "outputs": []
    },
    {
      "cell_type": "code",
      "source": [
        "r = requests.get('https://www.yelp.com/biz/social-brew-cafe-pyrmont')\n",
        "soup = BeautifulSoup(r.text, 'html.parser')\n",
        "regex = re.compile('.*comment.*')\n",
        "results = soup.find_all('p', {'class':regex})\n",
        "reviews = [result.text for result in results]\n",
        "reviews"
      ],
      "metadata": {
        "id": "3wRcx4Mzm8C-"
      },
      "execution_count": null,
      "outputs": []
    },
    {
      "cell_type": "code",
      "source": [
        "r.text"
      ],
      "metadata": {
        "id": "H2HS3JIA1AYf"
      },
      "execution_count": null,
      "outputs": []
    },
    {
      "cell_type": "code",
      "source": [
        "soup.find_all('p', {'class':regex})"
      ],
      "metadata": {
        "id": "a0yamSat2qQH"
      },
      "execution_count": null,
      "outputs": []
    },
    {
      "cell_type": "code",
      "source": [
        "regex"
      ],
      "metadata": {
        "id": "GJY6KZskodrU"
      },
      "execution_count": null,
      "outputs": []
    },
    {
      "cell_type": "code",
      "source": [
        "results[0].text"
      ],
      "metadata": {
        "id": "O9baswoEoYGK"
      },
      "execution_count": null,
      "outputs": []
    },
    {
      "cell_type": "code",
      "source": [
        "df = pd.DataFrame(np.array(reviews), columns=['review'])\n",
        "df.head()"
      ],
      "metadata": {
        "id": "W9UyBMuinANt"
      },
      "execution_count": null,
      "outputs": []
    },
    {
      "cell_type": "code",
      "source": [
        "df['review'].iloc[0]"
      ],
      "metadata": {
        "id": "LswsUaH9nKMo"
      },
      "execution_count": null,
      "outputs": []
    },
    {
      "cell_type": "code",
      "source": [
        "def sentiment_score(review):\n",
        "    tokens = tokenizer.encode(review, return_tensors='pt')\n",
        "    result = model(tokens)\n",
        "    return int(torch.argmax(result.logits))+1"
      ],
      "metadata": {
        "id": "pvoU_6wonMzb"
      },
      "execution_count": null,
      "outputs": []
    },
    {
      "cell_type": "code",
      "source": [
        "sentiment_score(df['review'].iloc[1])"
      ],
      "metadata": {
        "id": "s3GEHuDvnPr7"
      },
      "execution_count": null,
      "outputs": []
    },
    {
      "cell_type": "code",
      "source": [
        "df['sentiment'] = df['review'].apply(lambda x: sentiment_score(x[:512]))\n",
        "df.head()"
      ],
      "metadata": {
        "id": "qP_aC8UhnSfq"
      },
      "execution_count": null,
      "outputs": []
    },
    {
      "cell_type": "code",
      "source": [
        "df['review'].iloc[3]"
      ],
      "metadata": {
        "id": "1PGVd-rDnU1_"
      },
      "execution_count": null,
      "outputs": []
    }
  ]
}