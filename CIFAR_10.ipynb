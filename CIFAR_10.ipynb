{
  "nbformat": 4,
  "nbformat_minor": 0,
  "metadata": {
    "colab": {
      "provenance": [],
      "authorship_tag": "ABX9TyPzQROUKb+4M1uGIYSkbvoK",
      "include_colab_link": true
    },
    "kernelspec": {
      "name": "python3",
      "display_name": "Python 3"
    },
    "language_info": {
      "name": "python"
    }
  },
  "cells": [
    {
      "cell_type": "markdown",
      "metadata": {
        "id": "view-in-github",
        "colab_type": "text"
      },
      "source": [
        "<a href=\"https://colab.research.google.com/github/Sachinsachin21/Deep_learning/blob/main/CIFAR_10.ipynb\" target=\"_parent\"><img src=\"https://colab.research.google.com/assets/colab-badge.svg\" alt=\"Open In Colab\"/></a>"
      ]
    },
    {
      "cell_type": "code",
      "execution_count": 54,
      "metadata": {
        "id": "GlwXdMKOKOu7"
      },
      "outputs": [],
      "source": [
        "import tensorflow as tf\n",
        "from tensorflow.keras import datasets, layers, models\n",
        "import matplotlib.pyplot as plt\n",
        "import numpy as np"
      ]
    },
    {
      "cell_type": "code",
      "source": [
        "(X_train, y_train), (X_test, y_test) = datasets.cifar10.load_data()\n",
        "X_train.shape, y_train.shape"
      ],
      "metadata": {
        "colab": {
          "base_uri": "https://localhost:8080/"
        },
        "id": "aTVfZDYkKpyd",
        "outputId": "2aaf9a4f-217f-4369-b6b1-e77d2a550778"
      },
      "execution_count": 55,
      "outputs": [
        {
          "output_type": "execute_result",
          "data": {
            "text/plain": [
              "((50000, 32, 32, 3), (50000, 1))"
            ]
          },
          "metadata": {},
          "execution_count": 55
        }
      ]
    },
    {
      "cell_type": "code",
      "source": [
        "X_test.shape, y_test.shape"
      ],
      "metadata": {
        "colab": {
          "base_uri": "https://localhost:8080/"
        },
        "id": "hsrnIBwbK92H",
        "outputId": "03137244-4414-48a4-891f-7880312f590b"
      },
      "execution_count": 56,
      "outputs": [
        {
          "output_type": "execute_result",
          "data": {
            "text/plain": [
              "((10000, 32, 32, 3), (10000, 1))"
            ]
          },
          "metadata": {},
          "execution_count": 56
        }
      ]
    },
    {
      "cell_type": "code",
      "source": [
        "y_train[:5]"
      ],
      "metadata": {
        "colab": {
          "base_uri": "https://localhost:8080/"
        },
        "id": "ALyvNG1JN6Hu",
        "outputId": "70992f9e-626a-4343-b29a-c8e4e996c458"
      },
      "execution_count": 57,
      "outputs": [
        {
          "output_type": "execute_result",
          "data": {
            "text/plain": [
              "array([[6],\n",
              "       [9],\n",
              "       [9],\n",
              "       [4],\n",
              "       [1]], dtype=uint8)"
            ]
          },
          "metadata": {},
          "execution_count": 57
        }
      ]
    },
    {
      "cell_type": "code",
      "source": [
        "y_train = y_train.reshape(-1,)\n",
        "y_train[:5]"
      ],
      "metadata": {
        "colab": {
          "base_uri": "https://localhost:8080/"
        },
        "id": "RQZsgRHdOCIb",
        "outputId": "0854609f-e0d7-4a5d-d7e2-7204a816f9e9"
      },
      "execution_count": 58,
      "outputs": [
        {
          "output_type": "execute_result",
          "data": {
            "text/plain": [
              "array([6, 9, 9, 4, 1], dtype=uint8)"
            ]
          },
          "metadata": {},
          "execution_count": 58
        }
      ]
    },
    {
      "cell_type": "code",
      "source": [
        "classes = [\"airplane\",\"automobile\",\"bird\",\"cat\",\"deer\",\"dog\",\"frog\",\"horse\",\"ship\",\"truck\"]"
      ],
      "metadata": {
        "id": "BcXF28kuOJKh"
      },
      "execution_count": 59,
      "outputs": []
    },
    {
      "cell_type": "code",
      "source": [
        "classes[7]"
      ],
      "metadata": {
        "colab": {
          "base_uri": "https://localhost:8080/",
          "height": 36
        },
        "id": "-mBpZYsBONiP",
        "outputId": "43e5ee30-5ff0-4a2d-93c6-cf77e1c8fb8f"
      },
      "execution_count": 60,
      "outputs": [
        {
          "output_type": "execute_result",
          "data": {
            "text/plain": [
              "'horse'"
            ],
            "application/vnd.google.colaboratory.intrinsic+json": {
              "type": "string"
            }
          },
          "metadata": {},
          "execution_count": 60
        }
      ]
    },
    {
      "cell_type": "code",
      "source": [
        "def plot_sample(X, y, index):\n",
        "    plt.figure(figsize=(15,2))\n",
        "    plt.imshow(X[index])\n",
        "    plt.xlabel(classes[y[index]])"
      ],
      "metadata": {
        "id": "wKwu38eqLF78"
      },
      "execution_count": 61,
      "outputs": []
    },
    {
      "cell_type": "code",
      "source": [
        "plot_sample(X_train, y_train, 7)"
      ],
      "metadata": {
        "colab": {
          "base_uri": "https://localhost:8080/",
          "height": 237
        },
        "id": "wSHqPBlkLPw3",
        "outputId": "d775acc9-4445-43b9-e53e-c422a5b1fd51"
      },
      "execution_count": 62,
      "outputs": [
        {
          "output_type": "display_data",
          "data": {
            "text/plain": [
              "<Figure size 1500x200 with 1 Axes>"
            ],
            "image/png": "[encoded data removed]"
          },
          "metadata": {}
        }
      ]
    },
    {
      "cell_type": "code",
      "source": [
        "plot_sample(X_train, y_train, 3)"
      ],
      "metadata": {
        "colab": {
          "base_uri": "https://localhost:8080/",
          "height": 237
        },
        "id": "zdIKSgRZOeyV",
        "outputId": "431c9580-f9c8-417e-fc63-5ea613c493c7"
      },
      "execution_count": 63,
      "outputs": [
        {
          "output_type": "display_data",
          "data": {
            "text/plain": [
              "<Figure size 1500x200 with 1 Axes>"
            ],
            "image/png": "[encoded data removed]"
          },
          "metadata": {}
        }
      ]
    },
    {
      "cell_type": "code",
      "source": [
        "X_train = X_train / 255.0\n",
        "X_test = X_test / 255.0"
      ],
      "metadata": {
        "id": "9RviBKKDOnti"
      },
      "execution_count": 64,
      "outputs": []
    },
    {
      "cell_type": "code",
      "source": [
        "ann = models.Sequential([\n",
        "    layers.Flatten(input_shape=(32,32,3)),\n",
        "    layers.Dense(3000, activation='relu'),\n",
        "    layers.Dense(1000, activation='relu'),\n",
        "    layers.Dense(10, activation='softmax')\n",
        "])\n",
        "ann.compile(optimizer='SGD',\n",
        "              loss='sparse_categorical_crossentropy',\n",
        "              metrics=['accuracy'])\n",
        "ann.fit(X_train, y_train, epochs=10)"
      ],
      "metadata": {
        "colab": {
          "base_uri": "https://localhost:8080/"
        },
        "id": "la1JKnDrPEh7",
        "outputId": "1f985e99-ab1a-4dac-aed1-30f385712906"
      },
      "execution_count": 81,
      "outputs": [
        {
          "output_type": "stream",
          "name": "stdout",
          "text": [
            "Epoch 1/10\n",
            "1563/1563 [==============================] - 142s 91ms/step - loss: 1.8118 - accuracy: 0.3556\n",
            "Epoch 2/10\n",
            "1563/1563 [==============================] - 140s 90ms/step - loss: 1.6244 - accuracy: 0.4251\n",
            "Epoch 3/10\n",
            "1563/1563 [==============================] - 141s 90ms/step - loss: 1.5426 - accuracy: 0.4585\n",
            "Epoch 4/10\n",
            "1563/1563 [==============================] - 141s 90ms/step - loss: 1.4805 - accuracy: 0.4791\n",
            "Epoch 5/10\n",
            "1563/1563 [==============================] - 149s 96ms/step - loss: 1.4322 - accuracy: 0.4972\n",
            "Epoch 6/10\n",
            "1563/1563 [==============================] - 142s 91ms/step - loss: 1.3884 - accuracy: 0.5126\n",
            "Epoch 7/10\n",
            "1563/1563 [==============================] - 142s 91ms/step - loss: 1.3492 - accuracy: 0.5262\n",
            "Epoch 8/10\n",
            "1563/1563 [==============================] - 143s 92ms/step - loss: 1.3146 - accuracy: 0.5395\n",
            "Epoch 9/10\n",
            "1563/1563 [==============================] - 144s 92ms/step - loss: 1.2832 - accuracy: 0.5497\n",
            "Epoch 10/10\n",
            "1563/1563 [==============================] - 144s 92ms/step - loss: 1.2517 - accuracy: 0.5605\n"
          ]
        },
        {
          "output_type": "execute_result",
          "data": {
            "text/plain": [
              "<keras.src.callbacks.History at 0x7abd8020ba00>"
            ]
          },
          "metadata": {},
          "execution_count": 81
        }
      ]
    },
    {
      "cell_type": "code",
      "source": [
        "ann.evaluate(X_test, y_test)"
      ],
      "metadata": {
        "colab": {
          "base_uri": "https://localhost:8080/"
        },
        "id": "NcpX5jForeHr",
        "outputId": "28accdef-3e03-4af4-d498-da59a668cf8c"
      },
      "execution_count": 82,
      "outputs": [
        {
          "output_type": "stream",
          "name": "stdout",
          "text": [
            "313/313 [==============================] - 8s 25ms/step - loss: 1.3957 - accuracy: 0.5071\n"
          ]
        },
        {
          "output_type": "execute_result",
          "data": {
            "text/plain": [
              "[1.3957270383834839, 0.507099986076355]"
            ]
          },
          "metadata": {},
          "execution_count": 82
        }
      ]
    },
    {
      "cell_type": "code",
      "source": [
        "from sklearn.metrics import confusion_matrix , classification_report\n",
        "import numpy as np\n",
        "y_pred = ann.predict(X_test)\n",
        "y_pred_classes = [np.argmax(element) for element in y_pred]\n",
        "\n",
        "print(\"Classification Report: \\n\", classification_report(y_test, y_pred_classes))"
      ],
      "metadata": {
        "colab": {
          "base_uri": "https://localhost:8080/"
        },
        "id": "KT-oOqINtB6f",
        "outputId": "23cb9286-5154-48a3-af1a-c382b6329765"
      },
      "execution_count": 83,
      "outputs": [
        {
          "output_type": "stream",
          "name": "stdout",
          "text": [
            "313/313 [==============================] - 9s 29ms/step\n",
            "Classification Report: \n",
            "               precision    recall  f1-score   support\n",
            "\n",
            "           0       0.64      0.53      0.58      1000\n",
            "           1       0.77      0.50      0.60      1000\n",
            "           2       0.43      0.35      0.39      1000\n",
            "           3       0.44      0.23      0.30      1000\n",
            "           4       0.35      0.61      0.45      1000\n",
            "           5       0.35      0.56      0.43      1000\n",
            "           6       0.64      0.47      0.54      1000\n",
            "           7       0.53      0.58      0.56      1000\n",
            "           8       0.63      0.65      0.64      1000\n",
            "           9       0.60      0.58      0.59      1000\n",
            "\n",
            "    accuracy                           0.51     10000\n",
            "   macro avg       0.54      0.51      0.51     10000\n",
            "weighted avg       0.54      0.51      0.51     10000\n",
            "\n"
          ]
        }
      ]
    },
    {
      "cell_type": "code",
      "source": [
        "ann.summary()"
      ],
      "metadata": {
        "colab": {
          "base_uri": "https://localhost:8080/"
        },
        "id": "IE37vU-yvsHT",
        "outputId": "4aed6e5e-5fd0-4e40-eded-63a3c663564a"
      },
      "execution_count": 84,
      "outputs": [
        {
          "output_type": "stream",
          "name": "stdout",
          "text": [
            "Model: \"sequential_5\"\n",
            "_________________________________________________________________\n",
            " Layer (type)                Output Shape              Param #   \n",
            "=================================================================\n",
            " flatten_5 (Flatten)         (None, 3072)              0         \n",
            "                                                                 \n",
            " dense_13 (Dense)            (None, 3000)              9219000   \n",
            "                                                                 \n",
            " dense_14 (Dense)            (None, 1000)              3001000   \n",
            "                                                                 \n",
            " dense_15 (Dense)            (None, 10)                10010     \n",
            "                                                                 \n",
            "=================================================================\n",
            "Total params: 12230010 (46.65 MB)\n",
            "Trainable params: 12230010 (46.65 MB)\n",
            "Non-trainable params: 0 (0.00 Byte)\n",
            "_________________________________________________________________\n"
          ]
        }
      ]
    },
    {
      "cell_type": "code",
      "source": [
        "cnn = models.Sequential([\n",
        "    layers.Conv2D(filters=32, kernel_size=(3, 3), activation='relu', input_shape=(32, 32, 3)),\n",
        "    layers.MaxPooling2D((2, 2)),\n",
        "    layers.Flatten(),\n",
        "    layers.Dense(64, activation='relu'),\n",
        "    layers.Dense(10, activation='softmax')\n",
        "])"
      ],
      "metadata": {
        "id": "u9po9xc_2DDs"
      },
      "execution_count": 85,
      "outputs": []
    },
    {
      "cell_type": "code",
      "source": [
        "cnn.compile(optimizer='adam',\n",
        "              loss='sparse_categorical_crossentropy',\n",
        "              metrics=['accuracy'])"
      ],
      "metadata": {
        "id": "1SjNEsXc33C8"
      },
      "execution_count": 86,
      "outputs": []
    },
    {
      "cell_type": "code",
      "source": [
        "cnn.fit(X_train, y_train, epochs=10)"
      ],
      "metadata": {
        "colab": {
          "base_uri": "https://localhost:8080/"
        },
        "id": "-uCedSJq387P",
        "outputId": "2a5115ea-1c6d-40fe-baa2-139898f3fabf"
      },
      "execution_count": 87,
      "outputs": [
        {
          "output_type": "stream",
          "name": "stdout",
          "text": [
            "Epoch 1/10\n",
            "1563/1563 [==============================] - 38s 24ms/step - loss: 1.4812 - accuracy: 0.4754\n",
            "Epoch 2/10\n",
            "1563/1563 [==============================] - 37s 24ms/step - loss: 1.1825 - accuracy: 0.5890\n",
            "Epoch 3/10\n",
            "1563/1563 [==============================] - 35s 22ms/step - loss: 1.0696 - accuracy: 0.6288\n",
            "Epoch 4/10\n",
            "1563/1563 [==============================] - 37s 23ms/step - loss: 0.9897 - accuracy: 0.6575\n",
            "Epoch 5/10\n",
            "1563/1563 [==============================] - 37s 23ms/step - loss: 0.9306 - accuracy: 0.6775\n",
            "Epoch 6/10\n",
            "1563/1563 [==============================] - 35s 22ms/step - loss: 0.8839 - accuracy: 0.6941\n",
            "Epoch 7/10\n",
            "1563/1563 [==============================] - 36s 23ms/step - loss: 0.8440 - accuracy: 0.7070\n",
            "Epoch 8/10\n",
            "1563/1563 [==============================] - 36s 23ms/step - loss: 0.8072 - accuracy: 0.7218\n",
            "Epoch 9/10\n",
            "1563/1563 [==============================] - 35s 22ms/step - loss: 0.7705 - accuracy: 0.7329\n",
            "Epoch 10/10\n",
            "1563/1563 [==============================] - 37s 23ms/step - loss: 0.7447 - accuracy: 0.7407\n"
          ]
        },
        {
          "output_type": "execute_result",
          "data": {
            "text/plain": [
              "<keras.src.callbacks.History at 0x7abd802956c0>"
            ]
          },
          "metadata": {},
          "execution_count": 87
        }
      ]
    },
    {
      "cell_type": "code",
      "source": [
        "y_test = y_test.reshape(-1,)\n",
        "y_test[:5]\n",
        "cnn.evaluate(X_test,y_test)"
      ],
      "metadata": {
        "colab": {
          "base_uri": "https://localhost:8080/"
        },
        "id": "XAJj4luE4weF",
        "outputId": "edb58305-f4f1-4b9f-c1a1-c76ba7a05e15"
      },
      "execution_count": 97,
      "outputs": [
        {
          "output_type": "stream",
          "name": "stdout",
          "text": [
            "313/313 [==============================] - 4s 14ms/step - loss: 1.0619 - accuracy: 0.6428\n"
          ]
        },
        {
          "output_type": "execute_result",
          "data": {
            "text/plain": [
              "[1.0618574619293213, 0.642799973487854]"
            ]
          },
          "metadata": {},
          "execution_count": 97
        }
      ]
    },
    {
      "cell_type": "code",
      "source": [
        "plot_sample(X_test, y_test,3)"
      ],
      "metadata": {
        "colab": {
          "base_uri": "https://localhost:8080/",
          "height": 237
        },
        "id": "FASieCTs4xJ9",
        "outputId": "f012ba12-1195-4bf9-9c67-82a286412d42"
      },
      "execution_count": 90,
      "outputs": [
        {
          "output_type": "display_data",
          "data": {
            "text/plain": [
              "<Figure size 1500x200 with 1 Axes>"
            ],
            "image/png": "[encoded data removed]"
          },
          "metadata": {}
        }
      ]
    },
    {
      "cell_type": "code",
      "source": [
        "y_pred = cnn.predict(X_test)\n",
        "y_pred[:5]"
      ],
      "metadata": {
        "colab": {
          "base_uri": "https://localhost:8080/"
        },
        "id": "mqlOeK3l49dp",
        "outputId": "03b9ecbd-b06c-4289-af63-7873918f9b59"
      },
      "execution_count": 91,
      "outputs": [
        {
          "output_type": "stream",
          "name": "stdout",
          "text": [
            "313/313 [==============================] - 2s 7ms/step\n"
          ]
        },
        {
          "output_type": "execute_result",
          "data": {
            "text/plain": [
              "array([[9.4133080e-04, 9.1322572e-06, 8.9148321e-04, 9.4277060e-01,\n",
              "        1.1270677e-03, 4.3307215e-02, 4.5370287e-03, 2.2081987e-03,\n",
              "        3.6619245e-03, 5.4608297e-04],\n",
              "       [2.1126444e-02, 1.9148381e-01, 9.5874333e-05, 2.2608947e-05,\n",
              "        9.1134913e-05, 6.8701564e-07, 4.7374343e-08, 2.7819544e-06,\n",
              "        7.6692086e-01, 2.0255700e-02],\n",
              "       [2.8167459e-01, 1.1281190e-01, 4.0142573e-02, 6.3429982e-03,\n",
              "        3.6034777e-03, 5.1891815e-04, 2.9494066e-05, 7.0263403e-03,\n",
              "        4.7207364e-01, 7.5776033e-02],\n",
              "       [2.9811609e-01, 1.1133333e-02, 2.2745009e-01, 4.3333815e-03,\n",
              "        3.0888611e-02, 5.1777600e-04, 3.7116978e-02, 6.1823486e-04,\n",
              "        3.8808748e-01, 1.7380313e-03],\n",
              "       [3.7485398e-07, 9.6392250e-05, 5.2418034e-03, 4.3816146e-02,\n",
              "        7.9389608e-01, 2.8885454e-03, 1.5400016e-01, 1.0658904e-05,\n",
              "        3.1188065e-05, 1.8577657e-05]], dtype=float32)"
            ]
          },
          "metadata": {},
          "execution_count": 91
        }
      ]
    },
    {
      "cell_type": "code",
      "source": [
        "y_class = [np.argmax(element) for element in y_pred]\n",
        "y_class[:5]"
      ],
      "metadata": {
        "colab": {
          "base_uri": "https://localhost:8080/"
        },
        "id": "60JffHJJ574E",
        "outputId": "e1b98c61-fc1e-40cb-8491-2d566e108023"
      },
      "execution_count": 92,
      "outputs": [
        {
          "output_type": "execute_result",
          "data": {
            "text/plain": [
              "[3, 8, 8, 8, 4]"
            ]
          },
          "metadata": {},
          "execution_count": 92
        }
      ]
    },
    {
      "cell_type": "code",
      "source": [
        "y_test[:5]"
      ],
      "metadata": {
        "colab": {
          "base_uri": "https://localhost:8080/"
        },
        "id": "-qYRoMmO6CHV",
        "outputId": "3f8c73c7-e499-48d6-b7da-46325ce9e0e2"
      },
      "execution_count": 93,
      "outputs": [
        {
          "output_type": "execute_result",
          "data": {
            "text/plain": [
              "array([3, 8, 8, 0, 6], dtype=uint8)"
            ]
          },
          "metadata": {},
          "execution_count": 93
        }
      ]
    },
    {
      "cell_type": "code",
      "source": [
        "plot_sample(X_test, y_test,3)"
      ],
      "metadata": {
        "colab": {
          "base_uri": "https://localhost:8080/",
          "height": 237
        },
        "id": "t3FraWlk6V7W",
        "outputId": "4ed69e8a-4e9b-4d10-ddce-b8b1336bb4be"
      },
      "execution_count": 94,
      "outputs": [
        {
          "output_type": "display_data",
          "data": {
            "text/plain": [
              "<Figure size 1500x200 with 1 Axes>"
            ],
            "image/png": "[encoded data removed]"
          },
          "metadata": {}
        }
      ]
    },
    {
      "cell_type": "code",
      "source": [
        "classes[y_class[3]]"
      ],
      "metadata": {
        "colab": {
          "base_uri": "https://localhost:8080/",
          "height": 36
        },
        "id": "aHXxQ8DW6Z0G",
        "outputId": "d34a219f-ba7d-4028-aa0b-62f564872403"
      },
      "execution_count": 95,
      "outputs": [
        {
          "output_type": "execute_result",
          "data": {
            "text/plain": [
              "'ship'"
            ],
            "application/vnd.google.colaboratory.intrinsic+json": {
              "type": "string"
            }
          },
          "metadata": {},
          "execution_count": 95
        }
      ]
    },
    {
      "cell_type": "code",
      "source": [
        "print(\"Classification Report: \\n\", classification_report(y_test, y_class))"
      ],
      "metadata": {
        "colab": {
          "base_uri": "https://localhost:8080/"
        },
        "id": "vGM_gojC6-Xz",
        "outputId": "67a0031d-073a-4fdc-f75b-ee669d6f749c"
      },
      "execution_count": 96,
      "outputs": [
        {
          "output_type": "stream",
          "name": "stdout",
          "text": [
            "Classification Report: \n",
            "               precision    recall  f1-score   support\n",
            "\n",
            "           0       0.76      0.57      0.65      1000\n",
            "           1       0.78      0.76      0.77      1000\n",
            "           2       0.48      0.54      0.51      1000\n",
            "           3       0.47      0.43      0.45      1000\n",
            "           4       0.62      0.52      0.57      1000\n",
            "           5       0.54      0.58      0.56      1000\n",
            "           6       0.65      0.80      0.72      1000\n",
            "           7       0.72      0.70      0.71      1000\n",
            "           8       0.69      0.81      0.75      1000\n",
            "           9       0.75      0.70      0.72      1000\n",
            "\n",
            "    accuracy                           0.64     10000\n",
            "   macro avg       0.65      0.64      0.64     10000\n",
            "weighted avg       0.65      0.64      0.64     10000\n",
            "\n"
          ]
        }
      ]
    }
  ]
}